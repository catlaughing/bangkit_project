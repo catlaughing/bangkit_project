{
 "cells": [
  {
   "cell_type": "code",
   "execution_count": 1,
   "metadata": {
    "_cell_guid": "b1076dfc-b9ad-4769-8c92-a6c4dae69d19",
    "_uuid": "8f2839f25d086af736a60e9eeb907d3b93b6e0e5"
   },
   "outputs": [],
   "source": [
    "import pandas as pd\n",
    "import numpy as np\n",
    "import pickle\n",
    "import matplotlib.pyplot as plt\n",
    "import tensorflow as tf\n",
    "from tensorflow import keras"
   ]
  },
  {
   "cell_type": "code",
   "execution_count": 2,
   "metadata": {},
   "outputs": [
    {
     "name": "stderr",
     "output_type": "stream",
     "text": [
      "Using TensorFlow backend.\n"
     ]
    }
   ],
   "source": [
    "import time\n",
    "from keras.preprocessing import sequence\n",
    "from keras.models import Sequential\n",
    "from keras.layers import LSTM, Embedding, TimeDistributed, Dense, RepeatVector,\\\n",
    "                         Activation, Flatten, Reshape, Concatenate, Dropout, BatchNormalization, Conv1D, \\\n",
    "                        MaxPooling1D, GlobalMaxPooling1D \n",
    "from keras.optimizers import Adam, RMSprop\n",
    "from keras.layers.merge import add\n",
    "#from keras.applications.inception_v3 import InceptionV3\n",
    "from keras.applications.resnet50 import ResNet50\n",
    "from keras.preprocessing import image\n",
    "from keras.models import Sequential, Model\n",
    "from keras import Input, layers\n",
    "from keras import optimizers\n",
    "from keras.applications.inception_v3 import preprocess_input\n",
    "from keras.preprocessing.text import Tokenizer\n",
    "from keras.preprocessing.sequence import pad_sequences\n",
    "from keras.utils import to_categorical"
   ]
  },
  {
   "cell_type": "code",
   "execution_count": 3,
   "metadata": {
    "_cell_guid": "79c7e3d0-c299-4dcb-8224-4455121ee9b0",
    "_uuid": "d629ff2d2480ee46fbb7e2d37f6b5fab8052498a"
   },
   "outputs": [],
   "source": [
    "#Read Img Features\n",
    "infile = open(\"../input/rn50-extract/img_extract_rn50.pkl\",'rb')\n",
    "# infile = open(\"../input/image-captioning-extracting-features/img_extract_inc_3d.pkl\",'rb')\n",
    "img_fea = pickle.load(infile)\n",
    "infile.close()"
   ]
  },
  {
   "cell_type": "code",
   "execution_count": 4,
   "metadata": {},
   "outputs": [
    {
     "data": {
      "text/plain": [
       "2048"
      ]
     },
     "execution_count": 4,
     "metadata": {},
     "output_type": "execute_result"
    }
   ],
   "source": [
    "len(img_fea['2100735137_05c6079537.jpg'])"
   ]
  },
  {
   "cell_type": "code",
   "execution_count": 5,
   "metadata": {},
   "outputs": [],
   "source": [
    "#Get All Caps\n",
    "fn = \"../input/flickr8k/Flickr_Data/Flickr_Data/Flickr_TextData/Flickr8k.token.txt\"\n",
    "f = open(fn, 'r')\n",
    "capts = f.read()\n",
    "#Group all captions by filename, for references\n",
    "captions = dict()\n",
    "i = 0\n",
    "\n",
    "try:\n",
    "    for line in capts.split(\"\\n\"):\n",
    "        txt = line.split('\\t')\n",
    "        fn = txt[0].split('#')[0]\n",
    "        if fn not in captions.keys():\n",
    "            captions[fn] = [txt[1]]\n",
    "        else:\n",
    "            captions[fn].append(txt[1])\n",
    "        i += 1\n",
    "except:\n",
    "    pass\n"
   ]
  },
  {
   "cell_type": "code",
   "execution_count": 6,
   "metadata": {},
   "outputs": [],
   "source": [
    "def getCaptions(path):\n",
    "    \n",
    "    f = open(path, 'r')\n",
    "    capts = f.read()\n",
    "    desc = dict()\n",
    "\n",
    "    try:\n",
    "        for line in capts.split(\"\\n\"):\n",
    "            image_id = line\n",
    "            image_descs = captions[image_id]\n",
    "\n",
    "            for des in image_descs:\n",
    "                ws = des.split(\" \")\n",
    "                w = [word for word in ws if word.isalpha()]\n",
    "                des = \"startseq \" + \" \".join(w) + \" endseq\"\n",
    "                if image_id not in desc:\n",
    "                    desc[image_id] = list()\n",
    "                desc[image_id].append(des)\n",
    "    except:\n",
    "        pass\n",
    "    \n",
    "    return desc"
   ]
  },
  {
   "cell_type": "code",
   "execution_count": 7,
   "metadata": {},
   "outputs": [],
   "source": [
    "train_caps = getCaptions(\"../input/flickr8k/Flickr_Data/Flickr_Data/Flickr_TextData/Flickr_8k.trainImages.txt\")\n",
    "val_caps = getCaptions(\"../input/flickr8k/Flickr_Data/Flickr_Data/Flickr_TextData/Flickr_8k.devImages.txt\")"
   ]
  },
  {
   "cell_type": "code",
   "execution_count": 8,
   "metadata": {},
   "outputs": [],
   "source": [
    "#preparing to make word-index and index-word\n",
    "train_captions = []\n",
    "for key, desc_list in train_caps.items():\n",
    "    for i in range(len(desc_list)):\n",
    "        train_captions.append(desc_list[i])\n",
    "\n",
    "#Tokenize top 5000 words in Train Captions\n",
    "tokenizer = Tokenizer(num_words=5000,\n",
    "                      oov_token=\"<unk>\",\n",
    "                      filters='!\"#$%&()*+.,-/:;=?@[\\]^_`{|}~ ')\n",
    "tokenizer.fit_on_texts(train_captions)\n",
    "word_index = tokenizer.word_index\n",
    "index_word = tokenizer.index_word"
   ]
  },
  {
   "cell_type": "code",
   "execution_count": 9,
   "metadata": {},
   "outputs": [],
   "source": [
    "pickle.dump(word_index,open(\"word_index.pkl\",\"wb\"))\n",
    "pickle.dump(index_word,open(\"index_word.pkl\",\"wb\"))"
   ]
  },
  {
   "cell_type": "code",
   "execution_count": 10,
   "metadata": {},
   "outputs": [],
   "source": [
    "train_fns = list(train_caps.keys())\n",
    "train_set = dict((k, img_fea[k]) for k in train_fns)"
   ]
  },
  {
   "cell_type": "code",
   "execution_count": 11,
   "metadata": {},
   "outputs": [],
   "source": [
    "val_fns = list(val_caps.keys())\n",
    "val_set = dict((k, img_fea[k]) for k in val_fns)"
   ]
  },
  {
   "cell_type": "code",
   "execution_count": 12,
   "metadata": {},
   "outputs": [],
   "source": [
    "fn_test = \"../input/flickr8k/Flickr_Data/Flickr_Data/Flickr_TextData/Flickr_8k.testImages.txt\"\n",
    "f = open(fn_test, 'r')\n",
    "t = f.read()\n",
    "\n",
    "test_fns= t.split(\"\\n\")\n",
    "test_set = dict((k, img_fea[k]) for k in list(test_fns[:-1]))"
   ]
  },
  {
   "cell_type": "code",
   "execution_count": 13,
   "metadata": {},
   "outputs": [],
   "source": [
    "# data generator, intended to be used in a call to model.fit_generator()\n",
    "def data_generator(descriptions, photos, wordtoix, max_length, num_photos_per_batch):\n",
    "    X1, X2, y = list(), list(), list()\n",
    "    n=0\n",
    "    # loop for ever over images\n",
    "    while 1:\n",
    "        for key, desc_list in descriptions.items():\n",
    "            n+=1\n",
    "            # retrieve the photo feature\n",
    "            photo = photos[key]\n",
    "            for desc in desc_list:\n",
    "                # encode the sequence\n",
    "                seq = [wordtoix[word] for word in desc.split(' ') if word in wordtoix]\n",
    "                # split one sequence into multiple X, y pairs\n",
    "                for i in range(1, len(seq)):\n",
    "                    # split into input and output pair\n",
    "                    in_seq, out_seq = seq[:i], seq[i]\n",
    "                    # pad input sequence\n",
    "                    in_seq = pad_sequences([in_seq], maxlen=max_length)[0]\n",
    "                    # encode output sequence\n",
    "                    out_seq = to_categorical([out_seq], num_classes=vocab_size)[0]\n",
    "                    # store\n",
    "                    X1.append(photo)\n",
    "                    X2.append(in_seq)\n",
    "                    y.append(out_seq)\n",
    "            # yield the batch data\n",
    "            if n==num_photos_per_batch:\n",
    "                yield [[np.array(X1), np.array(X2)], np.array(y)]\n",
    "                X1, X2, y = list(), list(), list()\n",
    "                n=0"
   ]
  },
  {
   "cell_type": "code",
   "execution_count": 14,
   "metadata": {},
   "outputs": [
    {
     "name": "stdout",
     "output_type": "stream",
     "text": [
      "Found 400000 word vectors.\n"
     ]
    }
   ],
   "source": [
    "# Load Glove vectors\n",
    "embeddings_index = {} # empty dictionary\n",
    "f = open(\"../input/glove-global-vectors-for-word-representation/glove.6B.200d.txt\", encoding=\"utf-8\")\n",
    "\n",
    "for line in f:\n",
    "    values = line.split()\n",
    "    word = values[0]\n",
    "    coefs = np.asarray(values[1:], dtype='float32')\n",
    "    embeddings_index[word] = coefs\n",
    "f.close()\n",
    "print('Found %s word vectors.' % len(embeddings_index))"
   ]
  },
  {
   "cell_type": "code",
   "execution_count": 15,
   "metadata": {},
   "outputs": [],
   "source": [
    "# Get 200-dim dense vector for each of the 10000 words in out vocabulary\n",
    "vocab_size = len(word_index) + 1\n",
    "embedding_dim = 200\n",
    "embedding_matrix = np.zeros((vocab_size, embedding_dim))\n",
    "\n",
    "for word, i in word_index.items():\n",
    "    #if i < max_words:\n",
    "    embedding_vector = embeddings_index.get(word)\n",
    "    if embedding_vector is not None:\n",
    "        # Words not found in the embedding index will be all zeros\n",
    "        embedding_matrix[i] = embedding_vector"
   ]
  },
  {
   "cell_type": "code",
   "execution_count": 16,
   "metadata": {},
   "outputs": [],
   "source": [
    "\n",
    "max_length = 34\n",
    "image_model = Sequential()\n",
    "\n",
    "image_model.add(Dense(embedding_dim, input_shape=(2048,), activation='relu'))\n",
    "image_model.add(RepeatVector(max_length))\n",
    "\n",
    "language_model = Sequential()\n",
    "\n",
    "language_model.add(Embedding(input_dim=vocab_size, output_dim=embedding_dim, input_length=max_length))\n",
    "language_model.add(LSTM(256, return_sequences=True))\n",
    "language_model.add(TimeDistributed(Dense(embedding_dim)))\n",
    "\n",
    "conca = Concatenate()([image_model.output, language_model.output])\n",
    "x = LSTM(128, return_sequences=True)(conca)\n",
    "x = LSTM(512, return_sequences=False)(x)\n",
    "x = Dense(vocab_size)(x)\n",
    "out = Activation('softmax')(x)\n",
    "model_1 = Model(inputs=[image_model.input, language_model.input], outputs = out)\n",
    "\n",
    "model_1.layers[2].set_weights([embedding_matrix])\n",
    "model_1.layers[2].trainable = False\n",
    "\n",
    "model_1.compile(loss='categorical_crossentropy', optimizer = Adam(learning_rate = 0.0001), metrics=['accuracy'])\n",
    "\n",
    "epochs = 50\n",
    "number_pics_per_batch = 6\n",
    "steps = len(train_fns)//number_pics_per_batch"
   ]
  },
  {
   "cell_type": "code",
   "execution_count": 17,
   "metadata": {},
   "outputs": [],
   "source": [
    "#model_1.summary()"
   ]
  },
  {
   "cell_type": "code",
   "execution_count": 18,
   "metadata": {},
   "outputs": [],
   "source": [
    "# model.summary()"
   ]
  },
  {
   "cell_type": "code",
   "execution_count": 19,
   "metadata": {},
   "outputs": [],
   "source": [
    "# epochs = 20"
   ]
  },
  {
   "cell_type": "code",
   "execution_count": 20,
   "metadata": {},
   "outputs": [
    {
     "name": "stdout",
     "output_type": "stream",
     "text": [
      "Epoch 1/1\n",
      "1000/1000 [==============================] - 136s 136ms/step - loss: 5.5209 - accuracy: 0.1304 - val_loss: 5.3475 - val_accuracy: 0.1669\n",
      "Epoch 1/1\n",
      "1000/1000 [==============================] - 132s 132ms/step - loss: 4.8632 - accuracy: 0.1908 - val_loss: 5.0121 - val_accuracy: 0.2059\n",
      "Epoch 1/1\n",
      "1000/1000 [==============================] - 132s 132ms/step - loss: 4.5199 - accuracy: 0.2200 - val_loss: 4.6697 - val_accuracy: 0.2319\n",
      "Epoch 1/1\n",
      "1000/1000 [==============================] - 133s 133ms/step - loss: 4.2643 - accuracy: 0.2434 - val_loss: 4.5168 - val_accuracy: 0.2513\n",
      "Epoch 1/1\n",
      "1000/1000 [==============================] - 133s 133ms/step - loss: 4.0925 - accuracy: 0.2614 - val_loss: 4.4106 - val_accuracy: 0.2678\n",
      "Epoch 1/1\n",
      "1000/1000 [==============================] - 132s 132ms/step - loss: 3.7554 - accuracy: 0.2917 - val_loss: 4.0889 - val_accuracy: 0.2932\n",
      "Epoch 1/1\n",
      "1000/1000 [==============================] - 131s 131ms/step - loss: 3.6608 - accuracy: 0.3004 - val_loss: 4.0186 - val_accuracy: 0.2979\n",
      "Epoch 1/1\n",
      "1000/1000 [==============================] - 133s 133ms/step - loss: 3.5835 - accuracy: 0.3068 - val_loss: 3.9475 - val_accuracy: 0.3019\n",
      "Epoch 1/1\n",
      "1000/1000 [==============================] - 132s 132ms/step - loss: 3.5150 - accuracy: 0.3133 - val_loss: 3.8910 - val_accuracy: 0.3064\n",
      "Epoch 1/1\n",
      "1000/1000 [==============================] - 132s 132ms/step - loss: 3.4491 - accuracy: 0.3193 - val_loss: 3.8355 - val_accuracy: 0.3106\n",
      "Epoch 1/1\n",
      "1000/1000 [==============================] - 133s 133ms/step - loss: 3.2829 - accuracy: 0.3359 - val_loss: 3.7261 - val_accuracy: 0.3197\n",
      "Epoch 1/1\n",
      "1000/1000 [==============================] - 132s 132ms/step - loss: 2.9490 - accuracy: 0.3708 - val_loss: 3.5914 - val_accuracy: 0.3325\n",
      "Epoch 1/1\n",
      "1000/1000 [==============================] - 133s 133ms/step - loss: 2.9142 - accuracy: 0.3747 - val_loss: 3.6150 - val_accuracy: 0.3332\n",
      "Epoch 1/1\n",
      "1000/1000 [==============================] - 134s 134ms/step - loss: 2.6164 - accuracy: 0.4122 - val_loss: 3.6324 - val_accuracy: 0.3320\n",
      "Epoch 1/1\n",
      "1000/1000 [==============================] - 132s 132ms/step - loss: 2.5909 - accuracy: 0.4163 - val_loss: 3.7072 - val_accuracy: 0.3329\n",
      "Epoch 1/1\n",
      "1000/1000 [==============================] - 132s 132ms/step - loss: 2.5663 - accuracy: 0.4193 - val_loss: 3.7079 - val_accuracy: 0.3326\n",
      "Epoch 1/1\n",
      "1000/1000 [==============================] - 131s 131ms/step - loss: 2.5436 - accuracy: 0.4225 - val_loss: 3.7572 - val_accuracy: 0.3347\n",
      "Epoch 1/1\n",
      "1000/1000 [==============================] - 132s 132ms/step - loss: 2.2681 - accuracy: 0.4661 - val_loss: 3.7925 - val_accuracy: 0.3382\n",
      "Epoch 1/1\n",
      " 124/1000 [==>...........................] - ETA: 1:50 - loss: 2.2782 - accuracy: 0.4636"
     ]
    }
   ],
   "source": [
    "start_time = time.time()\n",
    "val_steps = len(val_fns)//number_pics_per_batch\n",
    "for i in range(epochs):\n",
    "    generator = data_generator(train_caps, train_set, word_index, max_length, number_pics_per_batch)\n",
    "    val_gen = data_generator(val_caps, val_set, word_index, max_length, number_pics_per_batch)\n",
    "    model_1.fit_generator(generator, validation_data = val_gen, validation_steps = val_steps,\n",
    "                        epochs=1, steps_per_epoch=steps, verbose=1)\n",
    "    model_1.save('model_rn50_glove.h5')"
   ]
  },
  {
   "cell_type": "code",
   "execution_count": 21,
   "metadata": {},
   "outputs": [],
   "source": [
    "def createCaption(photo):\n",
    "    in_text = 'startseq'\n",
    "    for i in range(max_length):\n",
    "        sequence = [word_index[w] for w in in_text.split() if w in word_index]\n",
    "        sequence = pad_sequences([sequence], maxlen=max_length)\n",
    "        yhat = model_1.predict([photo,sequence], verbose=0)\n",
    "        yhat = np.argmax(yhat)\n",
    "        word = index_word[yhat]\n",
    "        in_text += ' ' + word\n",
    "        if word == 'endseq':\n",
    "            break\n",
    "    final = in_text.split()\n",
    "    final = final[1:-1]\n",
    "    #final = ' '.join(final)\n",
    "    return final"
   ]
  },
  {
   "cell_type": "code",
   "execution_count": 22,
   "metadata": {},
   "outputs": [],
   "source": [
    "from nltk.translate.bleu_score import sentence_bleu\n",
    "def splitCaps(caps):\n",
    "    s = []\n",
    "    for c in caps:\n",
    "        ws = c.split(\" \")\n",
    "        w = [word for word in ws if word.isalpha()]\n",
    "        s.append(w)\n",
    "    return s"
   ]
  },
  {
   "cell_type": "code",
   "execution_count": 23,
   "metadata": {},
   "outputs": [
    {
     "name": "stderr",
     "output_type": "stream",
     "text": [
      "/opt/conda/lib/python3.7/site-packages/nltk/translate/bleu_score.py:490: UserWarning: \n",
      "Corpus/Sentence contains 0 counts of 3-gram overlaps.\n",
      "BLEU scores might be undesirable; use SmoothingFunction().\n",
      "  warnings.warn(_msg)\n",
      "/opt/conda/lib/python3.7/site-packages/nltk/translate/bleu_score.py:490: UserWarning: \n",
      "Corpus/Sentence contains 0 counts of 4-gram overlaps.\n",
      "BLEU scores might be undesirable; use SmoothingFunction().\n",
      "  warnings.warn(_msg)\n",
      "/opt/conda/lib/python3.7/site-packages/nltk/translate/bleu_score.py:490: UserWarning: \n",
      "Corpus/Sentence contains 0 counts of 2-gram overlaps.\n",
      "BLEU scores might be undesirable; use SmoothingFunction().\n",
      "  warnings.warn(_msg)\n"
     ]
    },
    {
     "name": "stdout",
     "output_type": "stream",
     "text": [
      "Average train bleu score:  0.516958480299935\n"
     ]
    }
   ],
   "source": [
    "train_bleu_score = []\n",
    "for f in train_fns:\n",
    "    fea = train_set[f]\n",
    "    candidate = createCaption(fea.reshape((1,2048)))\n",
    "    reference = splitCaps(captions[f])\n",
    "    score = sentence_bleu(reference, candidate)\n",
    "    train_bleu_score.append(score)\n",
    "    #print(score)\n",
    "print(\"Average train bleu score: \", np.mean(train_bleu_score))"
   ]
  },
  {
   "cell_type": "code",
   "execution_count": 24,
   "metadata": {},
   "outputs": [
    {
     "name": "stdout",
     "output_type": "stream",
     "text": [
      "Average val bleu score:  0.4996081531887521\n"
     ]
    }
   ],
   "source": [
    "val_bleu_score = []\n",
    "for f in val_fns:\n",
    "    fea = val_set[f]\n",
    "    candidate = createCaption(fea.reshape((1,2048)))\n",
    "    reference = splitCaps(captions[f])\n",
    "    score = sentence_bleu(reference, candidate)\n",
    "    val_bleu_score.append(score)\n",
    "    #print(score)\n",
    "print(\"Average val bleu score: \", np.mean(val_bleu_score))"
   ]
  },
  {
   "cell_type": "code",
   "execution_count": 25,
   "metadata": {},
   "outputs": [],
   "source": [
    "from random import seed\n",
    "from random import randint\n",
    "# seed random number generator\n",
    "seed(randint(0,10293))\n",
    "# generate some integers\n",
    "photos = []\n",
    "for _ in range(15):\n",
    "    value = randint(0, len(val_fns))\n",
    "    photos.append(value)"
   ]
  },
  {
   "cell_type": "code",
   "execution_count": 26,
   "metadata": {},
   "outputs": [
    {
     "data": {
      "image/png": "[encoded data removed]",
      "text/plain": [
       "<Figure size 432x288 with 1 Axes>"
      ]
     },
     "metadata": {
      "needs_background": "light"
     },
     "output_type": "display_data"
    },
    {
     "name": "stdout",
     "output_type": "stream",
     "text": [
      "young boy in a green shirt is standing on the beach\n"
     ]
    },
    {
     "ename": "IndexError",
     "evalue": "list index out of range",
     "output_type": "error",
     "traceback": [
      "\u001b[0;31m---------------------------------------------------------------------------\u001b[0m",
      "\u001b[0;31mIndexError\u001b[0m                                Traceback (most recent call last)",
      "\u001b[0;32m<ipython-input-26-e43afaf03b9b>\u001b[0m in \u001b[0;36m<module>\u001b[0;34m\u001b[0m\n\u001b[1;32m      1\u001b[0m \u001b[0mimages\u001b[0m \u001b[0;34m=\u001b[0m \u001b[0;34m\"../input/flickr8k/Flickr_Data/Flickr_Data/Images/\"\u001b[0m\u001b[0;34m\u001b[0m\u001b[0;34m\u001b[0m\u001b[0m\n\u001b[1;32m      2\u001b[0m \u001b[0;32mfor\u001b[0m \u001b[0mp\u001b[0m \u001b[0;32min\u001b[0m \u001b[0mphotos\u001b[0m\u001b[0;34m:\u001b[0m\u001b[0;34m\u001b[0m\u001b[0;34m\u001b[0m\u001b[0m\n\u001b[0;32m----> 3\u001b[0;31m     \u001b[0msample_test\u001b[0m \u001b[0;34m=\u001b[0m \u001b[0mval_fns\u001b[0m\u001b[0;34m[\u001b[0m\u001b[0mp\u001b[0m\u001b[0;34m]\u001b[0m\u001b[0;34m\u001b[0m\u001b[0;34m\u001b[0m\u001b[0m\n\u001b[0m\u001b[1;32m      4\u001b[0m     \u001b[0msample_fea\u001b[0m \u001b[0;34m=\u001b[0m \u001b[0mval_set\u001b[0m\u001b[0;34m[\u001b[0m\u001b[0msample_test\u001b[0m\u001b[0;34m]\u001b[0m\u001b[0;34m\u001b[0m\u001b[0;34m\u001b[0m\u001b[0m\n\u001b[1;32m      5\u001b[0m     \u001b[0mx\u001b[0m\u001b[0;34m=\u001b[0m\u001b[0mplt\u001b[0m\u001b[0;34m.\u001b[0m\u001b[0mimread\u001b[0m\u001b[0;34m(\u001b[0m\u001b[0mimages\u001b[0m \u001b[0;34m+\u001b[0m \u001b[0msample_test\u001b[0m\u001b[0;34m)\u001b[0m\u001b[0;34m\u001b[0m\u001b[0;34m\u001b[0m\u001b[0m\n",
      "\u001b[0;31mIndexError\u001b[0m: list index out of range"
     ]
    }
   ],
   "source": [
    "images = \"../input/flickr8k/Flickr_Data/Flickr_Data/Images/\"\n",
    "for p in photos:\n",
    "    sample_test = val_fns[p]\n",
    "    sample_fea = val_set[sample_test]\n",
    "    x=plt.imread(images + sample_test)\n",
    "    plt.imshow(x)\n",
    "    plt.show()\n",
    "    a = createCaption((sample_fea).reshape((1,2048)))\n",
    "    #print(a)\n",
    "    print(' '.join(a))"
   ]
  },
  {
   "cell_type": "code",
   "execution_count": 27,
   "metadata": {},
   "outputs": [],
   "source": [
    "# # detect and init the TPU\n",
    "# import tensorflow as tf\n",
    "# tpu = tf.distribute.cluster_resolver.TPUClusterResolver()\n",
    "# tf.config.experimental_connect_to_cluster(tpu)\n",
    "# tf.tpu.experimental.initialize_tpu_system(tpu)\n",
    "\n",
    "# # instantiate a distribution strategy\n",
    "# tpu_strategy = tf.distribute.experimental.TPUStrategy(tpu)\n",
    "# #Model\n",
    "# max_length = 34\n",
    "# # with tpu_strategy.scope():\n",
    "    \n",
    "# num_filters = 64  \n",
    "# inputs1 = Input(shape=(2048,))\n",
    "# # inputs11 = Reshape((-1, 2048,))(inputs1)\n",
    "# # conv1 = Conv1D(num_filters, 8, activation='relu', padding='same')(inputs11)\n",
    "# # maxp = MaxPooling1D(2)(conv1)\n",
    "# fe1 = Dropout(0.5)(inputs1)\n",
    "# fe2 = Dense(512, activation='relu')(fe1)\n",
    "# inputs2 = Input(shape=(max_length,))\n",
    "# se1 = Embedding(vocab_size, embedding_dim, mask_zero=True)(inputs2)\n",
    "# se2 = Dropout(0.5)(se1)\n",
    "# se3 = LSTM(512)(se2)\n",
    "\n",
    "# decoder1 = add([fe2, se3])\n",
    "# decoder2 = Dense(256, activation='relu')(decoder1)\n",
    "# outputs = Dense(vocab_size, activation='softmax')(decoder2)\n",
    "# model = Model(inputs=[inputs1, inputs2], outputs=outputs)\n",
    "# model.layers[2].set_weights([embedding_matrix])\n",
    "# model.layers[2].trainable = False\n",
    "# model.compile(loss='categorical_crossentropy', optimizer = Adam(learning_rate = 0.0001), metrics=['accuracy'])\n",
    "\n",
    "# epochs = 50\n",
    "# number_pics_per_batch = 6\n",
    "\n",
    "# steps = len(train_fns)//number_pics_per_batch"
   ]
  }
 ],
 "metadata": {
  "kernelspec": {
   "display_name": "Python 3",
   "language": "python",
   "name": "python3"
  },
  "language_info": {
   "codemirror_mode": {
    "name": "ipython",
    "version": 3
   },
   "file_extension": ".py",
   "mimetype": "text/x-python",
   "name": "python",
   "nbconvert_exporter": "python",
   "pygments_lexer": "ipython3",
   "version": "3.7.6"
  }
 },
 "nbformat": 4,
 "nbformat_minor": 4
}
